{
 "cells": [
  {
   "cell_type": "markdown",
   "id": "regulated-clear",
   "metadata": {
    "tags": []
   },
   "source": [
    "Generates a CDM json-metadata file for the CRM entities handled by mapping and modelling processes."
   ]
  },
  {
   "cell_type": "code",
   "execution_count": null,
   "id": "fatal-sport",
   "metadata": {},
   "outputs": [],
   "source": [
    "adls_root = 'https://stp1prodbra.blob.core.windows.net/commondataservice-sondamigraci-org187dcebc/Microsoft.Athena.TrickleFeedService'\n",
    "cdm_entities = ['opportunity','account','businessunit','product','opportunityproduct','systemuser','cmtx_aprobacion','cmtx_costooportunidad',\n",
    "                'cmtx_costoproducto','cmtx_filial','cmtx_pais','cmtx_grupo_divisional','cmtx_unidad','cmtx_usuariounidad']"
   ]
  },
  {
   "cell_type": "code",
   "execution_count": 2,
   "id": "copyrighted-screening",
   "metadata": {},
   "outputs": [],
   "source": [
    "results=[]"
   ]
  },
  {
   "cell_type": "code",
   "execution_count": 3,
   "id": "greek-percentage",
   "metadata": {},
   "outputs": [],
   "source": [
    "import requests\n",
    "import json\n",
    "import time\n",
    "import pandas as pd"
   ]
  },
  {
   "cell_type": "code",
   "execution_count": 4,
   "id": "forty-centre",
   "metadata": {},
   "outputs": [],
   "source": [
    "for cdm_entity in cdm_entities:\n",
    "        \n",
    "    cdm_config = {\n",
    "        'cdm-entity':cdm_entity,\n",
    "        'cdm-manifest-url':f'{adls_root}/{cdm_entity}-EntityMetadata.json',\n",
    "        'cdm-metadata-key':[{'key':'StateMetadata','cols':['statecode','State','LocalizedLabelLanguageCode','LocalizedLabel'],'class':'option'},\n",
    "                            {'key':'StatusMetadata','cols':['statuscode','Status','LocalizedLabelLanguageCode','LocalizedLabel'],'class':'option'},\n",
    "                            {'key':'GlobalOptionSetMetadata','cols':['OptionSetName','Option','LocalizedLabelLanguageCode','LocalizedLabel'],'class':'option'},\n",
    "                            {'key':'OptionSetMetadata','cols':['OptionSetName','Option','LocalizedLabelLanguageCode','LocalizedLabel'],'class':'option'}]\n",
    "                            \n",
    "    }\n",
    "\n",
    "    jfile = requests.get(cdm_config['cdm-manifest-url'])\n",
    "    data = jfile.json() \n",
    "\n",
    "    for cdm_session in cdm_config['cdm-metadata-key']:\n",
    "\n",
    "        for x in data[cdm_session['key']]:\n",
    "\n",
    "            collected_data = {\n",
    "            'cdm_entity':cdm_config['cdm-entity'],\n",
    "            'cdm_session':cdm_session['key'],    \n",
    "            'cdm_object':cdm_session['cols'][0] if 'Option' not in cdm_session['key'] else x[cdm_session['cols'][0]],\n",
    "            'cdm_value':x[cdm_session['cols'][1]],\n",
    "            'cdm_lang':x[cdm_session['cols'][2]],\n",
    "            'cdm_description':x[cdm_session['cols'][3]]\n",
    "            }\n",
    "            results.append(collected_data)"
   ]
  },
  {
   "cell_type": "code",
   "execution_count": 5,
   "id": "dominican-daisy",
   "metadata": {},
   "outputs": [],
   "source": [
    "\n",
    "df = pd.DataFrame(results)\n",
    "pd.options.display.float_format = '{:.0f}'.format\n"
   ]
  },
  {
   "cell_type": "code",
   "execution_count": 6,
   "id": "expired-passenger",
   "metadata": {},
   "outputs": [
    {
     "name": "stdout",
     "output_type": "stream",
     "text": [
      "     cdm_entity  cdm_object  cdm_value  cdm_lang        cdm_description\n",
      "6   opportunity  statuscode          1      3082               En curso\n",
      "7   opportunity  statuscode          1      1046           Em andamento\n",
      "8   opportunity  statuscode  800000001      3082   Pendiente aprobación\n",
      "9   opportunity  statuscode  800000001      1046     Aprovação pendente\n",
      "10  opportunity  statuscode          3      3082                Lograda\n",
      "11  opportunity  statuscode          3      1046                  Ganha\n",
      "12  opportunity  statuscode          4      3082              Cancelado\n",
      "13  opportunity  statuscode          4      1046              Cancelada\n",
      "14  opportunity  statuscode          5      3082             Abandonado\n",
      "15  opportunity  statuscode          5      1046               Esgotada\n",
      "16  opportunity  statuscode  800000004      3082                Perdido\n",
      "17  opportunity  statuscode  800000004      1046                Perdida\n",
      "18  opportunity  statuscode  800000007      3082  Inactividad Comercial\n",
      "19  opportunity  statuscode  800000007      1046  Inatividade comercial\n",
      "20  opportunity  statuscode  800000008      3082             Postergado\n",
      "21  opportunity  statuscode  800000008      1046                 Adiada\n"
     ]
    }
   ],
   "source": [
    "\n",
    "print(df[['cdm_entity','cdm_object','cdm_value','cdm_lang','cdm_description']][(df['cdm_entity']=='opportunity') & (df['cdm_session']=='StatusMetadata')])"
   ]
  },
  {
   "cell_type": "code",
   "execution_count": 8,
   "id": "occasional-boutique",
   "metadata": {},
   "outputs": [],
   "source": [
    "data = json.dumps(results, indent=1) "
   ]
  },
  {
   "cell_type": "code",
   "execution_count": 10,
   "id": "ancient-merchant",
   "metadata": {},
   "outputs": [],
   "source": [
    "from azure.storage.blob import BlobServiceClient\n",
    "from azure.storage.blob import BlobClient"
   ]
  },
  {
   "cell_type": "code",
   "execution_count": 11,
   "id": "allied-graduate",
   "metadata": {},
   "outputs": [],
   "source": [
    "connection_string = \"DefaultEndpointsProtocol=https;AccountName=stp1prodeus;AccountKey=hUGd6VonByLafRA+PWI0PLFbvmXTEkvQYp4CAhJkGAR2PZdHIdNEYn7NNoo5j1u8V6KaKqGdcmTp/yq062MmYg==;EndpointSuffix=core.windows.net\"\n",
    "service = BlobServiceClient.from_connection_string(conn_str=connection_string)"
   ]
  },
  {
   "cell_type": "code",
   "execution_count": 12,
   "id": "sustained-joyce",
   "metadata": {},
   "outputs": [
    {
     "data": {
      "text/plain": [
       "{'etag': '\"0x8D8E7C939E4A6EF\"',\n",
       " 'last_modified': datetime.datetime(2021, 3, 15, 15, 44, 31, tzinfo=datetime.timezone.utc),\n",
       " 'content_md5': bytearray(b'\\x1a|\\xf8\\xb2}\\xeb\\x80\\xaf\\xcb\\xf2\\xa4\\x18\\xb5\"\\x9f\\xb6'),\n",
       " 'client_request_id': '5434a517-85a5-11eb-addd-a0afbd8edb8f',\n",
       " 'request_id': 'adba0504-001e-0009-75b2-199abc000000',\n",
       " 'version': '2020-06-12',\n",
       " 'version_id': None,\n",
       " 'date': datetime.datetime(2021, 3, 15, 15, 44, 31, tzinfo=datetime.timezone.utc),\n",
       " 'request_server_encrypted': True,\n",
       " 'encryption_key_sha256': None,\n",
       " 'encryption_scope': None}"
      ]
     },
     "execution_count": 12,
     "metadata": {},
     "output_type": "execute_result"
    }
   ],
   "source": [
    "blob = BlobClient.from_connection_string(conn_str=connection_string, container_name=\"acr-p1-prod-eus-003\", blob_name=\"acr-p1-crm/sonda-crm-metadata.json\")\n",
    "blob.upload_blob(data, overwrite=True)"
   ]
  },
  {
   "cell_type": "code",
   "execution_count": null,
   "id": "modern-brunei",
   "metadata": {},
   "outputs": [],
   "source": []
  },
  {
   "cell_type": "code",
   "execution_count": null,
   "id": "indian-juvenile",
   "metadata": {},
   "outputs": [],
   "source": []
  },
  {
   "cell_type": "code",
   "execution_count": null,
   "id": "pressed-circus",
   "metadata": {},
   "outputs": [],
   "source": []
  }
 ],
 "metadata": {
  "kernelspec": {
   "display_name": "Python 3",
   "language": "python",
   "name": "python3"
  },
  "language_info": {
   "codemirror_mode": {
    "name": "ipython",
    "version": 3
   },
   "file_extension": ".py",
   "mimetype": "text/x-python",
   "name": "python",
   "nbconvert_exporter": "python",
   "pygments_lexer": "ipython3",
   "version": "3.9.1"
  }
 },
 "nbformat": 4,
 "nbformat_minor": 5
}
